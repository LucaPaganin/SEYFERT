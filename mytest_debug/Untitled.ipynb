{
 "cells": [
  {
   "cell_type": "code",
   "execution_count": null,
   "id": "206ceb04-2c88-40f2-a118-627c72b3085d",
   "metadata": {},
   "outputs": [],
   "source": [
    "from pathlib import Path\n",
    "import sys\n",
    "import importlib\n",
    "import plotly.express as px\n",
    "from plotly import graph_objects as go\n",
    "import numpy as np\n",
    "\n",
    "from seyfert.main import seyfert_core as sc\n",
    "importlib.reload(sc)\n",
    "from seyfert import Seyfert\n",
    "\n",
    "import logging\n",
    "\n",
    "from seyfert.utils.general_utils import configure_logger\n",
    "\n",
    "logger = logging.getLogger()\n",
    "\n",
    "configure_logger(logger)"
   ]
  },
  {
   "cell_type": "code",
   "execution_count": null,
   "id": "2e701f4d-54a0-4463-bceb-8a4aac859521",
   "metadata": {},
   "outputs": [],
   "source": [
    "s = Seyfert(args_dict={\"workdir\": \"./testseyfert\"})"
   ]
  },
  {
   "cell_type": "code",
   "execution_count": null,
   "id": "1e19dc26-3406-480d-90b5-157693d44cc2",
   "metadata": {},
   "outputs": [],
   "source": [
    "s.prepareWorkspace()"
   ]
  },
  {
   "cell_type": "code",
   "execution_count": null,
   "id": "f8176f0b-0a23-4250-93bd-fc9a9350764e",
   "metadata": {},
   "outputs": [],
   "source": [
    "s.evaluateFiducialCosmology()"
   ]
  },
  {
   "cell_type": "code",
   "execution_count": null,
   "id": "7ef979ac-a640-42ec-83a5-e843d4b026db",
   "metadata": {},
   "outputs": [],
   "source": [
    "s.evaluateRedshiftDensities()"
   ]
  },
  {
   "cell_type": "code",
   "execution_count": null,
   "id": "a2acd435-e258-4f25-afb3-c71c718760d2",
   "metadata": {},
   "outputs": [],
   "source": [
    "fidcls = s.computeFiducialCls()"
   ]
  },
  {
   "cell_type": "code",
   "execution_count": null,
   "id": "8809e47c-1c26-41f6-98b8-fe2e0e257ffc",
   "metadata": {},
   "outputs": [],
   "source": []
  },
  {
   "cell_type": "code",
   "execution_count": null,
   "id": "d01ae843-474f-4523-a959-1404eb7134e1",
   "metadata": {},
   "outputs": [],
   "source": [
    "nph = s.redshift_densities['PhotometricGalaxy']"
   ]
  },
  {
   "cell_type": "code",
   "execution_count": null,
   "id": "10633a4e-3642-4c8b-9280-f0c7d5bb63e1",
   "metadata": {},
   "outputs": [],
   "source": [
    "fig = go.Figure(\n",
    "    layout=go.Layout(width=800, height=600, title=\"Densities\")\n",
    ")\n",
    "\n",
    "fig.add_traces(\n",
    "    [\n",
    "        go.Scatter(x=nph.z_grid, y=nph.norm_density_iz[i], mode='lines', name=f'i = {i+1}')\n",
    "        for i in range(nph.n_bins)\n",
    "    ]\n",
    ")\n",
    "\n",
    "fig.show()"
   ]
  },
  {
   "cell_type": "code",
   "execution_count": null,
   "id": "8dc6ea10-d4d9-4178-b119-51014f0eee55",
   "metadata": {},
   "outputs": [],
   "source": []
  },
  {
   "cell_type": "code",
   "execution_count": null,
   "id": "40f27efe-1f4e-433a-9332-8c0dfffe1f64",
   "metadata": {},
   "outputs": [],
   "source": [
    "fig = go.Figure(\n",
    "    layout=go.Layout(width=800, height=600, \n",
    "                     title=\"Power spectra\",\n",
    "                     xaxis=dict(type=\"log\"), \n",
    "                     yaxis=dict(type=\"log\"))\n",
    ")\n",
    "\n",
    "fig.add_traces(\n",
    "    [\n",
    "        go.Scatter(x=pmm.k_grid, y=pmm.lin_p_mm_z_k[0], mode='lines', name='linear'),\n",
    "        go.Scatter(x=pmm.k_grid, y=pmm.nonlin_p_mm_z_k[0], mode='lines', name='nonlinear')\n",
    "    ]\n",
    ")\n",
    "\n",
    "fig.show()"
   ]
  },
  {
   "cell_type": "code",
   "execution_count": null,
   "id": "12a047fc-691c-458a-9dcd-98f2602ccc74",
   "metadata": {},
   "outputs": [],
   "source": [
    "densities = sc.compute_densities(ws, fcfg, cosmo)"
   ]
  },
  {
   "cell_type": "code",
   "execution_count": null,
   "id": "7ac857c2-b3da-4884-a429-9df90e6039e9",
   "metadata": {},
   "outputs": [],
   "source": []
  },
  {
   "cell_type": "code",
   "execution_count": null,
   "id": "b20f1674-60f0-4451-b2cf-7b304bb09c72",
   "metadata": {},
   "outputs": [],
   "source": []
  },
  {
   "cell_type": "code",
   "execution_count": null,
   "id": "eb466b91-a288-4007-8773-ebbc1cefbb79",
   "metadata": {},
   "outputs": [],
   "source": []
  },
  {
   "cell_type": "code",
   "execution_count": null,
   "id": "7e01678b-8be2-4c61-9484-0d10df28ef58",
   "metadata": {},
   "outputs": [],
   "source": []
  },
  {
   "cell_type": "code",
   "execution_count": null,
   "id": "20c851f4-db43-4644-b1e0-6fd6ea703758",
   "metadata": {},
   "outputs": [],
   "source": []
  }
 ],
 "metadata": {
  "kernelspec": {
   "display_name": "Python 3 (ipykernel)",
   "language": "python",
   "name": "python3"
  },
  "language_info": {
   "codemirror_mode": {
    "name": "ipython",
    "version": 3
   },
   "file_extension": ".py",
   "mimetype": "text/x-python",
   "name": "python",
   "nbconvert_exporter": "python",
   "pygments_lexer": "ipython3",
   "version": "3.10.6"
  }
 },
 "nbformat": 4,
 "nbformat_minor": 5
}
