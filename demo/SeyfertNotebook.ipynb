{
 "cells": [
  {
   "cell_type": "markdown",
   "id": "defined-halifax",
   "metadata": {},
   "source": [
    "# SEYFERT Interactive Notebook"
   ]
  },
  {
   "cell_type": "markdown",
   "id": "prime-catalyst",
   "metadata": {},
   "source": [
    "Imports"
   ]
  },
  {
   "cell_type": "code",
   "execution_count": null,
   "id": "unauthorized-thirty",
   "metadata": {},
   "outputs": [],
   "source": [
    "import time\n",
    "\n",
    "t_begin = time.time()\n",
    "\n",
    "from pathlib import Path\n",
    "import numpy as np\n",
    "import importlib\n",
    "import matplotlib.pyplot as plt\n",
    "import matplotlib\n",
    "import pandas as pd\n",
    "import datetime\n",
    "import re\n",
    "import sys\n",
    "import copy\n",
    "import json\n",
    "import itertools\n",
    "import pickle\n",
    "\n",
    "from seyfert.utils import general_utils, filesystem_utils, formatters\n",
    "from seyfert.utils.tex_utils import TeXTranslator\n",
    "\n",
    "plt.style.use(\"plt_params.mplstyle\")\n",
    "\n",
    "from seyfert.config.forecast_config import ForecastConfig\n",
    "from seyfert.utils.workspace import WorkSpace\n",
    "from seyfert.cosmology import cosmology\n",
    "from seyfert.cosmology import redshift_density\n",
    "from seyfert.cosmology import c_ells\n",
    "\n",
    "from seyfert.main import cl_core\n",
    "from seyfert.main import cl_derivative_core\n",
    "from seyfert.main import fisher_core\n",
    "\n",
    "from seyfert import plot_utils\n",
    "\n",
    "transl = TeXTranslator()"
   ]
  },
  {
   "cell_type": "markdown",
   "id": "unique-policy",
   "metadata": {},
   "source": [
    "Logging: if you want full logs set do_full_log = True"
   ]
  },
  {
   "cell_type": "code",
   "execution_count": null,
   "id": "spatial-sunglasses",
   "metadata": {},
   "outputs": [],
   "source": [
    "do_full_log = False\n",
    "\n",
    "import logging\n",
    "logger = logging.getLogger()\n",
    "\n",
    "if do_full_log:\n",
    "    general_utils.configure_logger(logger)"
   ]
  },
  {
   "cell_type": "markdown",
   "id": "musical-drain",
   "metadata": {},
   "source": [
    "## Configurations\n",
    "\n",
    "SEYFERT configuration files are all written in JSON format, and are essentially of two types: \n",
    "\n",
    "* ForecastConfig: the master configuration for the forecast. It is associated to a ForecastConfig class defined in `seyfert/config/forecast_config.py`\n",
    "* MainConfig: the configuration for the main script do the single computation tasks, which are:\n",
    "    * computation of the power spectra;\n",
    "    * computation of the angular power spectra;\n",
    "    * computation of the derivatives of the angular power spectra;\n",
    "    * computation of the fisher matrices.\n",
    "\n",
    "First of all we do the workspace setup. The necessary input data are:\n",
    "\n",
    "* Configuration files: these are the above mentioned JSON files. Some example files are stored inside the directory `input/config`, and are written in the cell below.\n",
    "* Input data files: these are auxiliary files storing the configuration of galaxy redshift densities or galaxy bias. The example files are here stored in `input/data`."
   ]
  },
  {
   "cell_type": "code",
   "execution_count": null,
   "id": "aware-network",
   "metadata": {},
   "outputs": [],
   "source": [
    "shotnoise_sp_reduced = True\n",
    "\n",
    "input_data_dir = Path(\"/home/euclid/spectrophoto/input_data/\")\n",
    "\n",
    "src_input_files = {\n",
    "    'forecast': \"/home/euclid/spectrophoto/config_files/latest/test_photo_4_bins/test_gcph_4_bins_gcsp_4_bins.json\",\n",
    "    'PowerSpectrum': \"input/config/power_spectrum_config.json\",\n",
    "    'Angular': \"input/config/angular_config.json\",\n",
    "    'Derivative': \"input/config/derivative_config.json\",\n",
    "    'Fisher': \"input/config/fisher_config.json\"\n",
    "}\n",
    "\n",
    "fcfg = ForecastConfig(input_file=src_input_files['forecast'], input_data_dir=input_data_dir)\n",
    "fcfg.loadPhysicalParametersFromJSONConfig()\n",
    "phys_pars = fcfg.phys_pars\n",
    "\n",
    "if shotnoise_sp_reduced:\n",
    "    fcfg.shot_noise_file = f\"/home/euclid/spectrophoto/input_data/shot_noise/shotnoise_{fcfg.n_sp_bins}_sp_bins_gcph_only_bins_spectro_range_shotnoise_gcsp_reduced.h5\"\n",
    "    fcfg.synthetic_opts['shot_noise_sp_reduced'] = shotnoise_sp_reduced\n"
   ]
  },
  {
   "cell_type": "code",
   "execution_count": null,
   "id": "twelve-detector",
   "metadata": {},
   "outputs": [],
   "source": [
    "test = False\n",
    "\n",
    "if test:\n",
    "    rundir_name = \"run_test\"\n",
    "else:\n",
    "    now = datetime.datetime.now()\n",
    "    rundir_name = f\"run_{fcfg.getConfigID()}_{formatters.datetime_str_format(now)}\"\n",
    "\n",
    "ws = WorkSpace(rundir_name)\n",
    "ws.run_dir.mkdir(exist_ok=True)\n",
    "\n",
    "ws.createInputFilesDir(src_input_files=src_input_files, phys_pars=phys_pars, input_data_dir=input_data_dir)\n",
    "\n",
    "main_configs = ws.getTasksJSONConfigs()"
   ]
  },
  {
   "cell_type": "markdown",
   "id": "welsh-humidity",
   "metadata": {},
   "source": [
    "## Fiducial Cosmology\n",
    "\n",
    "In this forecast we work in a $w_0 w_a \\rm CDM$ flat cosmology, therefore the Hubble parameter is given by\n",
    "\n",
    "\\begin{equation}\n",
    "H(z)=H_{0} \\sqrt{\\Omega_{\\mathrm{m}}(1+z)^{3}+\\left(1-\\Omega_{\\mathrm{m}}\\right)(1+z)^{3\\left(1+w_{0}+w_{a}\\right)} \\exp \\left(-3 w_{a} \\frac{z}{1+z}\\right)}\n",
    "\\end{equation}\n",
    "\n",
    "In following cell the fiducial cosmology is loaded from file. Technically SEYFERT is also capable to call CAMB or CLASS to compute the matter power spectrum on the fly, but here in order to save time we load the already computed power spectra from disk."
   ]
  },
  {
   "cell_type": "code",
   "execution_count": null,
   "id": "electrical-entry",
   "metadata": {},
   "outputs": [],
   "source": [
    "pmm_dir = Path(\"/ssd860/euclid_forecasts/spectrophoto/powerspectra/istf_pmms/\")\n",
    "#pmm_dir = Path(\"/Users/lucapaganin/spectrophoto/powerspectra/istf_pmms/\")\n",
    "\n",
    "if not ws.pmm_dir.exists():\n",
    "    ws.symlinkToExternalDirs({\n",
    "        \"PowerSpectrum\": pmm_dir,\n",
    "        \"Angular\": \"run_scenario_optimistic__n_sp_bins_4__gcph_only_bins_in_spectro_range_2021-06-27T19-32-42/Angular/\",\n",
    "        \"Derivative\": \"run_scenario_optimistic__n_sp_bins_4__gcph_only_bins_in_spectro_range_2021-06-27T19-32-42/Derivative/\"\n",
    "    })\n",
    "\n",
    "fid_cosmo = cosmology.Cosmology.fromHDF5(ws.getPowerSpectrumFile(dvar='central', step=0))\n",
    "fid_cosmo.evaluateOverRedshiftGrid()"
   ]
  },
  {
   "cell_type": "markdown",
   "id": "auburn-underground",
   "metadata": {},
   "source": [
    "## Redshift densities"
   ]
  },
  {
   "cell_type": "code",
   "execution_count": null,
   "id": "north-southeast",
   "metadata": {},
   "outputs": [],
   "source": [
    "if not ws.niz_file.is_file():\n",
    "    densities = {}\n",
    "\n",
    "    for probe, pcfg in fcfg.probe_configs.items():\n",
    "        densities[probe] = redshift_density.RedshiftDensity.fromHDF5(pcfg.density_init_file)\n",
    "        densities[probe].setUp()\n",
    "        densities[probe].evaluate(z_grid=fid_cosmo.z_grid)\n",
    "        densities[probe].evaluateSurfaceDensity()\n",
    "\n",
    "    redshift_density.save_densities_to_file(densities=densities, file=ws.niz_file)\n",
    "else:\n",
    "    densities = redshift_density.load_densities_from_file(file=ws.niz_file)"
   ]
  },
  {
   "cell_type": "markdown",
   "id": "guilty-liabilities",
   "metadata": {},
   "source": [
    "### Photo-z densities\n",
    "\n",
    "Here we plot the $\\rm GC_{ph}$ galaxy densities. The tomographic bins used are 10 equi-populated bins in the range $z \\in [0.001, 2.5]$. The bin edges are the following\n",
    "\n",
    "\\begin{equation}\n",
    "z_{i}=\\{0.0010,0.42,0.56,0.68,0.79,0.90,1.02,1.15,1.32,1.58,2.50\\}\n",
    "\\end{equation}"
   ]
  },
  {
   "cell_type": "code",
   "execution_count": null,
   "id": "coral-extreme",
   "metadata": {},
   "outputs": [],
   "source": [
    "nph = densities[\"PhotometricGalaxy\"]\n",
    "\n",
    "for i in range(nph.n_bins):\n",
    "    plt.plot(nph.z_grid, nph.norm_density_iz[i], label=f'{i+1}')\n",
    "\n",
    "plt.xlabel(\"$z$\", fontsize=22)\n",
    "plt.legend(bbox_to_anchor=[1, 0.38], title=\"bin index\")\n",
    "plt.title(r\"$\\rm GC_{ph}$\")\n",
    "    \n",
    "del nph"
   ]
  },
  {
   "cell_type": "markdown",
   "id": "scientific-karma",
   "metadata": {},
   "source": [
    "### Spectro-z densities\n",
    "\n",
    "Here we plot the $\\rm GC_{sp}$ galaxy densities. The baseline tomographic bins used for spectro-z are the 4 bins used for the power spectrum analysis of IST:F\n",
    "\n",
    "\\begin{equation}\n",
    "z_{i} = \\{0.9, 1.1, 1.3, 1.5, 1.8\\}\n",
    "\\end{equation}"
   ]
  },
  {
   "cell_type": "code",
   "execution_count": null,
   "id": "fifteen-reproduction",
   "metadata": {},
   "outputs": [],
   "source": [
    "nsp = densities[\"SpectroscopicGalaxy\"]\n",
    "\n",
    "for i in range(nsp.n_bins):\n",
    "    plt.plot(nsp.z_grid, nsp.norm_density_iz[i], label=f'{i+1}')\n",
    "\n",
    "plt.xlabel(\"$z$\")\n",
    "plt.legend(bbox_to_anchor=[1, 0.70], title=\"bin index\")\n",
    "plt.title(r\"$\\rm GC_{sp}$\")\n",
    "    \n",
    "del nsp"
   ]
  },
  {
   "cell_type": "markdown",
   "id": "wooden-translator",
   "metadata": {},
   "source": [
    "## Angular power spectra\n"
   ]
  },
  {
   "cell_type": "code",
   "execution_count": null,
   "id": "cleared-stability",
   "metadata": {},
   "outputs": [],
   "source": [
    "ws.cl_dir.mkdir(exist_ok=True)\n",
    "\n",
    "fid_cl_file = ws.cl_dir / \"dvar_central_step_0\" / \"cls_fiducial.h5\"\n",
    "\n",
    "if not fid_cl_file.is_file():\n",
    "\n",
    "    fid_cls = cl_core.compute_cls(cosmology=fid_cosmo, phys_pars=phys_pars, densities=densities, \n",
    "                                  forecast_config=fcfg, angular_config=main_configs['Angular'])\n",
    "\n",
    "    fid_cl_file.parent.mkdir(exist_ok=True, parents=True)\n",
    "\n",
    "    fid_cls.saveToHDF5(fid_cl_file)\n",
    "else:\n",
    "    fid_cls = c_ells.AngularCoefficientsCollector.fromHDF5(fid_cl_file)\n",
    "\n",
    "del fid_cl_file"
   ]
  },
  {
   "cell_type": "markdown",
   "id": "computational-florida",
   "metadata": {},
   "source": [
    "### Plot the weight functions\n",
    "\n",
    "Here we plot the weight functions"
   ]
  },
  {
   "cell_type": "code",
   "execution_count": null,
   "id": "abandoned-mission",
   "metadata": {},
   "outputs": [],
   "source": [
    "fig, axs = plot_utils.cl_plot.plot_weight_funcs(fid_cls, cosmo=fid_cosmo, phys_pars=phys_pars)\n"
   ]
  },
  {
   "cell_type": "markdown",
   "id": "intended-franklin",
   "metadata": {},
   "source": [
    "### Plot auto-correlation angular power spectra\n",
    "\n",
    "Here we plot the diagonals of the auto-correlations $C(\\ell)$'s"
   ]
  },
  {
   "cell_type": "code",
   "execution_count": null,
   "id": "lovely-aerospace",
   "metadata": {},
   "outputs": [],
   "source": [
    "for kind in ['phph', 'spsp', 'wlwl']:\n",
    "    fig = plt.figure()\n",
    "    cl = fid_cls[kind]\n",
    "    ells = cl.l_bin_centers\n",
    "\n",
    "    for i in range(cl.n_i):\n",
    "        plt.loglog(ells, ells*(ells+1)*cl.c_lij[:, i, i], label=i)\n",
    "\n",
    "    plt.legend(bbox_to_anchor=[1.0, 0.4], title=\"bin index\")\n",
    "    plt.title(r\"$C^{\\rm %s}_{ii}(\\ell)$\" % kind)\n",
    "    plt.xlabel(r\"$\\ell$\", fontsize=22)\n",
    "    plt.ylabel(r\"$\\ell (\\ell+1) C(\\ell)$\", fontsize=22)"
   ]
  },
  {
   "cell_type": "markdown",
   "id": "permanent-gates",
   "metadata": {},
   "source": [
    "## Derivatives of angular power spectra\n",
    "\n",
    "Compute $C(\\ell)$ derivatives with respect to the free parameters, which may be cosmological or nuisance. The derivatives are computed with the SteM® algorithm (credits to Stefano Camera).\n",
    "\n",
    "\n",
    "First of all set the free parameters"
   ]
  },
  {
   "cell_type": "code",
   "execution_count": null,
   "id": "powerful-system",
   "metadata": {},
   "outputs": [],
   "source": [
    "#free_pars = [\"w0\", \"wa\", \"Omm\"]\n",
    "free_pars = list(phys_pars.free_physical_parameters.keys())\n",
    "\n",
    "for name in phys_pars:\n",
    "    if name not in free_pars:\n",
    "        phys_pars[name].is_free_parameter = False\n",
    "    else:\n",
    "        phys_pars[name].is_free_parameter = True"
   ]
  },
  {
   "cell_type": "markdown",
   "id": "generic-raising",
   "metadata": {},
   "source": [
    "Do the computation"
   ]
  },
  {
   "cell_type": "code",
   "execution_count": null,
   "id": "western-treatment",
   "metadata": {
    "tags": []
   },
   "outputs": [],
   "source": [
    "cl_ders_file = ws.der_dir / \"cl_ders.pickle\"\n",
    "\n",
    "if not ws.der_dir.is_dir():\n",
    "    ws.der_dir.mkdir()\n",
    "    cl_ders_file = ws.der_dir / \"cl_ders.pickle\"\n",
    "\n",
    "    data = {\n",
    "        \"fid_cls\": fid_cls,\n",
    "        \"ws\": ws,\n",
    "        \"phys_pars\": phys_pars,\n",
    "        \"densities\": densities,\n",
    "        \"forecast_config\": fcfg,\n",
    "        \"angular_config\": main_configs['Angular'],\n",
    "        \"fiducial_cosmology\": fid_cosmo\n",
    "    }\n",
    "    \n",
    "    ti = time.time()\n",
    "    ders_dict = {}\n",
    "    n_params = len(free_pars)\n",
    "\n",
    "    for i, dvar in enumerate(phys_pars.free_physical_parameters):\n",
    "        t1 = time.time()\n",
    "        print(f\"{'#'*40} Computing cl derivatives w.r.t. {dvar}: {i+1}/{n_params} {'#'*40}\")\n",
    "        ders_dict[dvar] = cl_derivative_core.compute_cls_derivatives_wrt(dvar, **data)\n",
    "        t2 = time.time()\n",
    "        print(f\"Elapsed time: {formatters.string_time_format(t2 - t1)}\")\n",
    "\n",
    "\n",
    "    tf = time.time()\n",
    "    print(\"\")\n",
    "    print(f\"Cl derivatives total elapsed time: {formatters.string_time_format(tf - ti)}\")\n",
    "\n",
    "    with open(cl_ders_file, mode=\"wb\") as f:\n",
    "        pickle.dump(ders_dict, f)\n",
    "else:\n",
    "    with open(cl_ders_file, mode=\"rb\") as f:\n",
    "        ders_dict = pickle.load(f)\n",
    "        "
   ]
  },
  {
   "cell_type": "markdown",
   "id": "subsequent-miracle",
   "metadata": {},
   "source": [
    "### Plot of derivatives"
   ]
  },
  {
   "cell_type": "code",
   "execution_count": null,
   "id": "theoretical-hungary",
   "metadata": {},
   "outputs": [],
   "source": [
    "dcl_phph = ders_dict['w0'].dcl_dict['PhotometricGalaxy_PhotometricGalaxy']\n",
    "\n",
    "for i in range(dcl_phph.dc_lij.shape[1]):\n",
    "    plt.plot(dcl_phph.l_bin_centers, dcl_phph.dc_lij[:, i, i], label=i+1)\n",
    "\n",
    "plt.legend(bbox_to_anchor=[1.0, 0.4], title=\"bin index\")\n",
    "plt.title(r\"Derivative of $C^{\\rm phph}_{ii}(\\ell)$ w.r.t. to $w_0$\")\n",
    "plt.xscale('log')\n",
    "plt.xlabel(r\"$\\ell$\", fontsize=22)\n",
    "plt.ylabel(r\"$\\frac{\\partial C^{\\rm phph}_{ii}(\\ell)}{\\partial w_0}$\", rotation=0, fontsize=22, labelpad=50)"
   ]
  },
  {
   "cell_type": "markdown",
   "id": "uniform-source",
   "metadata": {},
   "source": [
    "## Compute and save Delta Cls\n",
    "\n",
    "Compute the $\\Delta C(\\ell)$'s. These are simply defined as\n",
    "\n",
    "\\begin{equation}\n",
    "\\Delta C^{AB}_{ij}(\\ell) = \\frac{1}{\\sqrt{f_{\\rm sky}\\Delta\\ell}} \\left[ C^{AB}_{ij}(\\ell) + N^{AB}_{ij}(\\ell) \\right]\n",
    "\\end{equation}\n",
    "\n",
    "where $N^{AB}_{ij}(\\ell)$ is the Poisson shot noise, and $f_{\\rm sky}$ is the sky fraction covered by Euclid. The sky fraction is computed assuming an observed sky area of $15000 \\, \\mathrm{deg}^2$, and therefore since the full sky is approximately $41252.961 \\, \\mathrm{deg}^2$ we have\n",
    "\n",
    "\\begin{equation}\n",
    "f_{\\rm sky} \\simeq 0.36361\n",
    "\\end{equation}\n",
    "\n",
    "The covariance matrix for the $C(\\ell)$'s is calculated as\n",
    "\n",
    "\\begin{equation}\n",
    "\\mathrm{Cov}[ C^{AB}_{ij}(\\ell), C^{CD}_{km}(\\ell')] = \\frac{\\delta_{\\ell\\ell'}^{\\rm K}}{2\\ell + 1} \n",
    "\\left[\n",
    "\\Delta C^{AC}_{ij}(\\ell)\\Delta C^{BD}_{ij}(\\ell') + \\Delta C^{AD}_{ij}(\\ell) \\Delta C^{BC}_{ij}(\\ell')\n",
    "\\right]\n",
    "\\end{equation}\n",
    "\n",
    "where $\\delta_{\\ell\\ell'}^{\\rm K}$ is the Kronecker delta.\n",
    "\n",
    "The following cell computes and saves on disk the $\\Delta C^{AB}(\\ell)$'s for each combination of the probe indices $A$ and $B$."
   ]
  },
  {
   "cell_type": "code",
   "execution_count": null,
   "id": "incredible-electricity",
   "metadata": {},
   "outputs": [],
   "source": [
    "if ws.delta_cls_file.is_symlink():\n",
    "    ws.delta_cls_file.unlink()\n",
    "\n",
    "if ws.delta_cls_file.is_file():\n",
    "    delta_cls = cl_core.DeltaClCollection.fromHDF5(ws.delta_cls_file)\n",
    "else:\n",
    "    delta_cls = cl_core.compute_delta_cls(ws)\n",
    "    delta_cls.saveToHDF5(ws.delta_cls_file)    "
   ]
  },
  {
   "cell_type": "code",
   "execution_count": null,
   "id": "popular-seating",
   "metadata": {},
   "outputs": [],
   "source": []
  },
  {
   "cell_type": "markdown",
   "id": "collect-publication",
   "metadata": {},
   "source": [
    "## Fisher"
   ]
  },
  {
   "cell_type": "code",
   "execution_count": null,
   "id": "gentle-cooper",
   "metadata": {},
   "outputs": [],
   "source": [
    "ws.base_fishers_dir.mkdir(exist_ok=True)\n",
    "\n",
    "fisher_input_data = {\n",
    "    \"outdir\": ws.base_fishers_dir,\n",
    "    \"ws\": ws,\n",
    "    \"phys_pars\": phys_pars,\n",
    "    \"delta_cls\": delta_cls,\n",
    "    \"dcoll_dvar_dict\": ders_dict\n",
    "}\n",
    "\n",
    "auto_fishers = fisher_core.compute_and_save_fishers([\"phph\", \"spsp\", \"wlwl\"], ws.base_fishers_dir, ws, phys_pars, delta_cls, ders_dict)"
   ]
  },
  {
   "cell_type": "markdown",
   "id": "czech-congo",
   "metadata": {},
   "source": [
    "Now compute some combinations"
   ]
  },
  {
   "cell_type": "code",
   "execution_count": null,
   "id": "korean-tolerance",
   "metadata": {},
   "outputs": [],
   "source": [
    "from seyfert.fisher.fisher_utils import load_selected_data_vectors"
   ]
  },
  {
   "cell_type": "code",
   "execution_count": null,
   "id": "indirect-composer",
   "metadata": {},
   "outputs": [],
   "source": [
    "datavectors = load_selected_data_vectors()"
   ]
  },
  {
   "cell_type": "code",
   "execution_count": null,
   "id": "fatty-comparison",
   "metadata": {},
   "outputs": [],
   "source": [
    "brief_str_datavectors = [dv.toBriefString() for dv in datavectors]"
   ]
  },
  {
   "cell_type": "code",
   "execution_count": null,
   "id": "sapphire-treasure",
   "metadata": {},
   "outputs": [],
   "source": [
    "fishers = fisher_core.compute_and_save_fishers(brief_str_datavectors, ws.base_fishers_dir, ws, phys_pars, delta_cls, ders_dict)"
   ]
  },
  {
   "cell_type": "markdown",
   "id": "experimental-firewall",
   "metadata": {},
   "source": [
    "Load IST:F Pk fisher matrix"
   ]
  },
  {
   "cell_type": "code",
   "execution_count": null,
   "id": "ignored-snake",
   "metadata": {},
   "outputs": [],
   "source": [
    "from seyfert.fisher.fisher_matrix import FisherMatrix\n",
    "from seyfert.fisher.final_results_core import create_final_results\n"
   ]
  },
  {
   "cell_type": "code",
   "execution_count": null,
   "id": "confused-wright",
   "metadata": {},
   "outputs": [],
   "source": [
    "f_gcsp_pk = FisherMatrix.from_ISTfile(filesystem_utils.get_ist_gcsp_pk_fisher_file(fcfg.scenario))\n",
    "\n",
    "\n",
    "f_gcsp_pk.writeToFile(outfile=ws.base_fishers_dir / \"fisher_IST_gcsp_pk.hdf5\")"
   ]
  },
  {
   "cell_type": "code",
   "execution_count": null,
   "id": "grave-wagon",
   "metadata": {},
   "outputs": [],
   "source": [
    "create_final_results(rundir=ws.run_dir, outdir_name=\"final_results\")"
   ]
  },
  {
   "cell_type": "markdown",
   "id": "ordered-coupon",
   "metadata": {},
   "source": [
    "## Some contour plots\n",
    "\n",
    "Plot Fisher contours"
   ]
  },
  {
   "cell_type": "code",
   "execution_count": null,
   "id": "cardiovascular-portugal",
   "metadata": {},
   "outputs": [],
   "source": [
    "from seyfert.fisher.fisher_analysis import FisherAnalysis\n",
    "from seyfert.fisher.fisher_plot import FisherPlotter\n",
    "\n",
    "full_analysis = FisherAnalysis.fromFishersDir(ws.getResultsDir(), params=phys_pars)\n",
    "\n",
    "cmap = matplotlib.colors.ListedColormap([\"dodgerblue\", \"forestgreen\", \"gold\"])\n",
    "pars_to_plot=[\"Omm\", \"h\", \"w0\", \"wa\"]"
   ]
  },
  {
   "cell_type": "code",
   "execution_count": null,
   "id": "apart-easter",
   "metadata": {},
   "outputs": [],
   "source": [
    "fishers = [\n",
    "    \"[GCph]\", \"[GCsp]\", \"[GCph+GCsp]\", \"[GCph+GCsp+XC(GCph,GCsp)]\"\n",
    "]\n",
    "\n",
    "analysis = full_analysis.getSubsetAnalysis(fishers)\n",
    "\n",
    "analysis.evaluateMarginalizedErrors()"
   ]
  },
  {
   "cell_type": "markdown",
   "id": "accepting-scanner",
   "metadata": {},
   "source": [
    "### 6x2pt"
   ]
  },
  {
   "cell_type": "code",
   "execution_count": null,
   "id": "moving-operation",
   "metadata": {},
   "outputs": [],
   "source": [
    "analysis.name = \"test\"\n",
    "\n",
    "plotter = FisherPlotter(pars_to_plot=pars_to_plot, fisher_analysis=analysis)\n",
    "plotter.setPlotConfig(config_file=\"input/config/results_config.json\")\n",
    "plotter.setParametersPlotRanges()\n",
    "\n",
    "fig, axs = plotter.makeTriangularPlot()"
   ]
  },
  {
   "cell_type": "code",
   "execution_count": null,
   "id": "stylish-think",
   "metadata": {},
   "outputs": [],
   "source": [
    "Nph_tot = densities['PhotometricGalaxy'].computeTotalGalaxyNumber()\n",
    "Nsp_tot = densities['SpectroscopicGalaxy'].computeTotalGalaxyNumber()\n",
    "\n",
    "delta_cls.single_blocks['SpectroscopicGalaxy_SpectroscopicGalaxy'].noise_lij *= (Nsp_tot / Nph_tot)"
   ]
  },
  {
   "cell_type": "code",
   "execution_count": null,
   "id": "american-elder",
   "metadata": {},
   "outputs": [],
   "source": []
  },
  {
   "cell_type": "code",
   "execution_count": null,
   "id": "electrical-recovery",
   "metadata": {},
   "outputs": [],
   "source": [
    "delta_cls.writeShotNoiseToFile(f\"shotnoise_{fcfg.n_sp_bins}_sp_bins_gcph_only_bins_spectro_range_shotnoise_gcsp_reduced.h5\")"
   ]
  },
  {
   "cell_type": "code",
   "execution_count": null,
   "id": "convenient-hostel",
   "metadata": {},
   "outputs": [],
   "source": [
    "t_end = time.time()\n",
    "\n",
    "print(f\"Total notebook run time: {formatters.string_time_format(t_end - t_begin)}\")"
   ]
  },
  {
   "cell_type": "code",
   "execution_count": null,
   "id": "minute-conclusion",
   "metadata": {},
   "outputs": [],
   "source": []
  },
  {
   "cell_type": "code",
   "execution_count": null,
   "id": "dutch-edinburgh",
   "metadata": {},
   "outputs": [],
   "source": []
  },
  {
   "cell_type": "code",
   "execution_count": null,
   "id": "blocked-interference",
   "metadata": {},
   "outputs": [],
   "source": []
  }
 ],
 "metadata": {
  "kernelspec": {
   "display_name": "Python 3 (ipykernel)",
   "language": "python",
   "name": "python3"
  },
  "language_info": {
   "codemirror_mode": {
    "name": "ipython",
    "version": 3
   },
   "file_extension": ".py",
   "mimetype": "text/x-python",
   "name": "python",
   "nbconvert_exporter": "python",
   "pygments_lexer": "ipython3",
   "version": "3.10.6"
  },
  "toc-autonumbering": true
 },
 "nbformat": 4,
 "nbformat_minor": 5
}
