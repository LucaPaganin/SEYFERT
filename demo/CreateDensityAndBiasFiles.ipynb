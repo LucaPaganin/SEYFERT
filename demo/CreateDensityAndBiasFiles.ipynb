{
 "cells": [
  {
   "cell_type": "markdown",
   "id": "499fb1f8-74ee-4dee-90f6-8d974b6c4a4d",
   "metadata": {},
   "source": [
    "# Creating density input files\n",
    "\n",
    "Imports"
   ]
  },
  {
   "cell_type": "code",
   "execution_count": null,
   "id": "ambient-andrew",
   "metadata": {},
   "outputs": [],
   "source": [
    "import time\n",
    "\n",
    "t_begin = time.time()\n",
    "\n",
    "from pathlib import Path\n",
    "import numpy as np\n",
    "from astropy import units as u\n",
    "import importlib\n",
    "import matplotlib.pyplot as plt\n",
    "import matplotlib\n",
    "import pandas as pd\n",
    "import datetime\n",
    "from scipy import integrate, interpolate\n",
    "\n",
    "from seyfert.utils import general_utils as gu, filesystem_utils as fsu\n",
    "from seyfert.cosmology.redshift_density import RedshiftDensity\n",
    "from seyfert.numeric import general as nug\n",
    "\n",
    "\n",
    "plt.style.use(\"plt_params.mplstyle\")"
   ]
  },
  {
   "cell_type": "markdown",
   "id": "9c64b658-5159-4a0b-ab18-d26e7d01eb3c",
   "metadata": {},
   "source": [
    "## Model description\n",
    "\n",
    "The theoretical redshift density per unit solid angle for a generic probe $A$ is denoted as\n",
    "\n",
    "$$\n",
    "\\frac{\\mathrm{d} N^A}{\\mathrm{d} z \\mathrm{d} \\Omega}(z)\n",
    "$$\n",
    "\n",
    "In `SEYFERT` we use the convention that **the solid angle is measured in steradians**. So the above function will have units of inverse steradians $\\mathrm{sr}^{-1}$.\n",
    "The observed redshift density is obtained from this theoretical density by \"convolving\" it with an instrument response of the form\n",
    "\n",
    "\\begin{equation}\n",
    "p_{A}(z_{\\rm{p}} | z) = \n",
    "\\frac{1-f_{\\rm out}}{\\sqrt{2 \\pi}\\sigma_{\\rm{b}}(1+z)} \n",
    "\\exp \\left\\{-\\frac{1}{2}\\left[\\frac{z-c_{\\rm{b}} z_{\\rm{p}}-z_{\\rm{b}}}{\\sigma_{\\rm{b}}(1+z)}\\right]^{2}\\right\\} + \n",
    "\\frac{f_{\\rm out}}{\\sqrt{2 \\pi} \\sigma_{\\rm{o}}(1+z)}\\exp \\left\\{-\\frac{1}{2}\\left[\\frac{z-c_{\\rm{o}} z_{\\rm{p}}-z_{0}}{\\sigma_{\\rm{o}}(1+z)}\\right]^{2}\\right\\}\n",
    "\\end{equation}\n",
    "\n",
    "This is the same model adopted in https://arxiv.org/abs/1910.09273. See it for more details.\n",
    "\n",
    "Assuming to have defined the tomographic binning for probe $A$, the observed normalized densities of probe $A$ at bin $i$ are obtained by\n",
    "\n",
    "\\begin{equation}\n",
    "n^A_{i}(z) = \\frac{\\int_{z_{i}^{-}}^{z_{i}^{+}} \\mathrm{d} z_{\\rm{p}} \\, \\frac{\\mathrm{d} N^A}{\\mathrm{d} z \\mathrm{d}\\Omega}(z) \\, p_{A}(z_{\\rm{p}} | z)}{\\int_{z_{\\min }}^{z_{\\max }} \\mathrm{d} z \\int_{z_{i}^{-}}^{z_{i}^{+}} \\mathrm{d} z_{\\rm{p}} \\, \\frac{\\mathrm{d} N^A}{\\mathrm{d} z \\mathrm{d}\\Omega}(z) \\, p_{A}(z_{\\rm{p}} | z)}\n",
    "\\end{equation}\n",
    "\n",
    "\n",
    "\n",
    "## Data to be specified\n",
    "\n",
    "To correctly create a redshift density file the following data are always needed:\n",
    "\n",
    "* **`probe`**: must be one of `PhotometricGalaxy`, `SpectroscopicGalaxy` or `Void`;\n",
    "* **`has_niz_from_input`**: boolean flag to indicate if the convolution with instrument response has to be done or not.\n",
    "* **`catalog_f_sky`**: the sky fraction covered by the catalog;\n",
    "* **`z_bin_edges`**: the edges of the tomographic bins to use for the given probe\n",
    "* **`input_z_domain`**: a numpy array storing the redshift grid on which the input functions are sampled.\n",
    "\n",
    "Now there are two possibilities: specify the theoretical redshift density $\\frac{\\mathrm{d} N^A}{\\mathrm{d} z \\mathrm{d} \\Omega}(z)$ as input (`has_niz_from_input = False`), or directly give the observed normalized densities $n_i^A(z)$ at each bin (`has_niz_from_input = True`). In both cases the functions must be sampled on the `input_z_domain` grid described above.\n",
    "\n",
    "### True redshift density as input\n",
    "\n",
    "In this case (`has_niz_from_input = False`) two additional inputs must be given to the code:\n",
    "\n",
    "* **`input_dN_dz_dOmega`**: a numpy array storing the values of the theoretical redshift density per unit solid angle $\\frac{\\mathrm{d} N^A}{\\mathrm{d} z \\mathrm{d} \\Omega}(z)$, sampled on the `input_z_domain` grid;\n",
    "* **`instrument_response`**: a dictionary storing the parameters of the above defined instrument response.\n",
    "\n",
    "\n",
    "### Observed redshift densities as input\n",
    "In this case (`has_niz_from_input = True`) only one additional input is needed:\n",
    "\n",
    "* **`input_n_iz`**: numpy array storing the values of the normalized observed redshift densities $n_i^A(z)$, sampled on the `input_z_domain` grid. This must be a 2-D numpy array: the first axis must have the same size as the number of specified tomographic bins, the second axis must have the same size of the `input_z_domain` parameter."
   ]
  },
  {
   "cell_type": "markdown",
   "id": "7ae54639-a1f6-4baf-8f96-6f094ade4fc3",
   "metadata": {},
   "source": [
    "## Convenience functions and variables"
   ]
  },
  {
   "cell_type": "code",
   "execution_count": null,
   "id": "91e6bef1-0482-4b47-becb-905952d19a2a",
   "metadata": {},
   "outputs": [],
   "source": [
    "def build_redshift_density(data):\n",
    "    d = RedshiftDensity()\n",
    "    for key, value in data.items():\n",
    "        if key not in d.__dict__:\n",
    "            raise KeyError(f\"Invalid attribute name {key}\")\n",
    "        setattr(d, key, value)\n",
    "    \n",
    "    return d\n",
    "\n",
    "\n",
    "euclid_f_sky = (15000*u.deg**2 / (4*np.pi*u.steradian).to(u.deg**2)).value\n",
    "photo_z_bins_edges = np.array([0.001, 0.418, 0.560, 0.678, 0.789, 0.900, 1.019, 1.155, 1.324, 1.576, 2.500])\n",
    "spectro_z_bins_edges = np.array([0.9, 1.1, 1.3, 1.5, 1.8])\n",
    "\n",
    "photo_z_bins_centers = (photo_z_bins_edges[:-1] + photo_z_bins_edges[1:])/2\n",
    "spectro_z_bins_centers = (spectro_z_bins_edges[:-1] + spectro_z_bins_edges[1:])/2\n"
   ]
  },
  {
   "cell_type": "markdown",
   "id": "d0df5ef9-05d1-4750-a3b5-2233357d7697",
   "metadata": {},
   "source": [
    "## GCph Euclid Redbook density\n",
    "\n",
    "Here we describe as an example the steps needed to build redshift density files for the photometric galaxy clustering $\\rm GC_{ph}$ for Euclid."
   ]
  },
  {
   "cell_type": "code",
   "execution_count": null,
   "id": "53e7b11c-75fb-4aa9-9272-ed450f64fccf",
   "metadata": {},
   "outputs": [],
   "source": [
    "N_z_sampling = 10000\n",
    "\n",
    "data = {\n",
    "    \"probe\" : 'PhotometricGalaxy',\n",
    "    \"has_niz_from_input\" : False,\n",
    "    \"instrument_response\" : {\n",
    "        'f_out': 0.1,\n",
    "        'z_o': 0.1,\n",
    "        'z_b': 0.0,\n",
    "        'sigma_o': 0.050,\n",
    "        'sigma_b': 0.050,\n",
    "        'c_o': 1.0,\n",
    "        'c_b': 1.0\n",
    "    },\n",
    "    \"catalog_f_sky\" : euclid_f_sky,\n",
    "    \"z_bin_edges\" : photo_z_bins_edges,\n",
    "    \"input_z_domain\" : np.linspace(0.001, 2.5, N_z_sampling)\n",
    "}"
   ]
  },
  {
   "cell_type": "markdown",
   "id": "dea48f39-5d3c-42c1-a45e-34290dceba83",
   "metadata": {},
   "source": [
    "### True redshift distribution as input\n",
    "\n",
    "We assume $30\\; \\mathrm{galaxies} / \\mathrm{arcmin}^2$ as normalization"
   ]
  },
  {
   "cell_type": "code",
   "execution_count": null,
   "id": "b08c3fff-864c-4a19-bec1-8dc80374159e",
   "metadata": {},
   "outputs": [],
   "source": [
    "n_gals_per_steradian = (30 * u.arcmin**-2).to(u.steradian**-1).value\n",
    "\n",
    "z0 = 0.9/np.sqrt(2)\n",
    "\n",
    "def theGalaxyPhotometricDensity(z):\n",
    "    return (z/z0)**2 * np.exp(-(z/z0)**1.5)\n",
    "\n",
    "input_dN_dz_dOmega = theGalaxyPhotometricDensity(data[\"input_z_domain\"])\n",
    "normalization = n_gals_per_steradian/integrate.simps(y=input_dN_dz_dOmega, x=data[\"input_z_domain\"])\n",
    "input_dN_dz_dOmega *= normalization\n",
    "\n",
    "data['input_dN_dz_dOmega'] = input_dN_dz_dOmega"
   ]
  },
  {
   "cell_type": "markdown",
   "id": "932f763e-097e-4d3e-9af2-8a03a803b0b4",
   "metadata": {},
   "source": [
    "Save to disk"
   ]
  },
  {
   "cell_type": "code",
   "execution_count": null,
   "id": "a3101722-bea1-4d40-b6d8-aab8f738d709",
   "metadata": {},
   "outputs": [],
   "source": [
    "d = build_redshift_density(data)\n",
    "\n",
    "outfile = Path(\"sample_output/gcph_dndz_redbook.h5\")\n",
    "\n",
    "if outfile.exists():\n",
    "    outfile.unlink()\n",
    "\n",
    "d.saveToHDF5(outfile)"
   ]
  },
  {
   "cell_type": "markdown",
   "id": "58a0c313-e0f6-4235-ba4a-56641b2887f7",
   "metadata": {},
   "source": [
    "## GCsp Euclid SPV2 density"
   ]
  },
  {
   "cell_type": "markdown",
   "id": "3e31996e-eef8-4569-90b7-4aa2ca516c35",
   "metadata": {},
   "source": [
    "Read default GCsp SPV2 data from repository. The path to the default data dir is provided by the function `fsu.default_data_dir()`, which should give the correct path independently of where you cloned the SEYFERT repository."
   ]
  },
  {
   "cell_type": "code",
   "execution_count": null,
   "id": "963b3d72-1973-439d-b8fe-d5559a969971",
   "metadata": {},
   "outputs": [],
   "source": [
    "data_dir = fsu.default_data_dir()\n",
    "gcsp_input_file = data_dir / \"gcsp/granett_original_data/granett_dNdz_sqrdeg_fine_binning.out\"\n",
    "\n",
    "gcsp_input_data = pd.read_table(gcsp_input_file, skiprows=1, delim_whitespace=True)\n",
    "\n",
    "dN_dz_dOmega = (gcsp_input_data['model1'].values * u.deg**-2).to(u.steradian**-1)\n",
    "gcsp_spl = interpolate.InterpolatedUnivariateSpline(x=gcsp_input_data['z'], y=dN_dz_dOmega)"
   ]
  },
  {
   "cell_type": "markdown",
   "id": "7f838260-296e-43d2-8c30-2d173d251dc5",
   "metadata": {},
   "source": [
    "### Data"
   ]
  },
  {
   "cell_type": "code",
   "execution_count": null,
   "id": "d4e9d41f-39d0-4e18-bdc4-58b7f207e57c",
   "metadata": {},
   "outputs": [],
   "source": [
    "N_z_sampling = 4000\n",
    "\n",
    "data = {\n",
    "    \"probe\" : 'SpectroscopicGalaxy',\n",
    "    \"has_niz_from_input\" : False,\n",
    "    \"instrument_response\" : {\n",
    "        'f_out': 0.0,\n",
    "        'z_o': 0.1,\n",
    "        'z_b': 0.0,\n",
    "        'sigma_o': 0.050,\n",
    "        'sigma_b': 0.050,\n",
    "        'c_o': 1.0,\n",
    "        'c_b': 1.0\n",
    "    },\n",
    "    \"catalog_f_sky\" : euclid_f_sky,\n",
    "    \"z_bin_edges\" : spectro_z_bins_edges,\n",
    "    \"input_z_domain\" : np.linspace(0.9, 1.8, N_z_sampling)\n",
    "}\n",
    "\n",
    "data['input_dN_dz_dOmega'] = gcsp_spl(data['input_z_domain'])"
   ]
  },
  {
   "cell_type": "markdown",
   "id": "f5f8c318-def0-4823-95db-3813debf3d20",
   "metadata": {},
   "source": [
    "Save to disk"
   ]
  },
  {
   "cell_type": "code",
   "execution_count": null,
   "id": "fa7de2aa-6575-43fc-94e3-f9b7a50036be",
   "metadata": {},
   "outputs": [],
   "source": [
    "d = build_redshift_density(data)\n",
    "\n",
    "outfile = Path(\"sample_output/gcsp_dndz_4_bins.h5\")\n",
    "\n",
    "if outfile.exists():\n",
    "    outfile.unlink()\n",
    "\n",
    "d.saveToHDF5(outfile)"
   ]
  },
  {
   "cell_type": "markdown",
   "id": "1457239c-6920-415b-bb61-9ad19562ec97",
   "metadata": {},
   "source": [
    "# Creating bias input files"
   ]
  },
  {
   "cell_type": "code",
   "execution_count": null,
   "id": "6d734572-2186-4a1c-aeed-a25541b8ee28",
   "metadata": {},
   "outputs": [],
   "source": [
    "from seyfert.cosmology import bias"
   ]
  },
  {
   "cell_type": "markdown",
   "id": "63daf798-ba9d-4e49-83a2-1e60130d21f6",
   "metadata": {},
   "source": [
    "## GCph piecewise bias\n",
    "\n",
    "Here we build the piecewise bias file for the photometric galaxy clustering $\\rm GC_{ph}$ for Euclid."
   ]
  },
  {
   "cell_type": "code",
   "execution_count": null,
   "id": "e33eb204-8705-4428-9ca3-b3318a1afaf4",
   "metadata": {},
   "outputs": [],
   "source": []
  },
  {
   "cell_type": "code",
   "execution_count": null,
   "id": "e8f131bd-e428-421a-9b22-3eba0a66f309",
   "metadata": {},
   "outputs": [],
   "source": [
    "ph_bias = bias.Bias(probe=\"PhotometricGalaxy\")\n",
    "ph_bias.z_bin_edges = photo_z_bins_edges\n",
    "\n",
    "ph_bias.model_name = 'piecewise'\n",
    "\n",
    "bgph_vals = np.sqrt(1 + photo_z_bins_centers)\n",
    "\n",
    "ph_bias.nuisance_parameters = {f\"bgph{i}\": bgph_vals[i] for i in range(len(bgph_vals))}\n",
    "ph_bias.additional_parameters = {}"
   ]
  },
  {
   "cell_type": "code",
   "execution_count": null,
   "id": "0744b5e0-78b2-410a-ae00-65e645928cb6",
   "metadata": {},
   "outputs": [],
   "source": [
    "outfile = Path(\"sample_output/gcph_bias_piecewise.h5\")\n",
    "\n",
    "if outfile.exists():\n",
    "    outfile.unlink()\n",
    "\n",
    "ph_bias.saveToHDF5(outfile)"
   ]
  },
  {
   "cell_type": "code",
   "execution_count": null,
   "id": "05f3eff8-4d8e-4f78-b0ad-2ca3b04ed20a",
   "metadata": {},
   "outputs": [],
   "source": []
  },
  {
   "cell_type": "code",
   "execution_count": null,
   "id": "532271a2-9871-4cae-a767-a899876ecdce",
   "metadata": {},
   "outputs": [],
   "source": []
  }
 ],
 "metadata": {
  "kernelspec": {
   "display_name": "Python 3",
   "language": "python",
   "name": "python3"
  },
  "language_info": {
   "codemirror_mode": {
    "name": "ipython",
    "version": 3
   },
   "file_extension": ".py",
   "mimetype": "text/x-python",
   "name": "python",
   "nbconvert_exporter": "python",
   "pygments_lexer": "ipython3",
   "version": "3.8.8"
  },
  "toc-autonumbering": true
 },
 "nbformat": 4,
 "nbformat_minor": 5
}
