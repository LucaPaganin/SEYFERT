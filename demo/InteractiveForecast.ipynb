{
 "cells": [
  {
   "cell_type": "markdown",
   "id": "7e9d88b1-1010-4d5b-b813-215111fe95db",
   "metadata": {},
   "source": [
    "# Notebook for performing forecast interactively"
   ]
  },
  {
   "cell_type": "code",
   "execution_count": null,
   "id": "respected-steps",
   "metadata": {},
   "outputs": [],
   "source": [
    "from pathlib import Path\n",
    "import time\n",
    "import numpy as np\n",
    "import h5py\n",
    "import matplotlib.pyplot as plt\n",
    "import matplotlib\n",
    "import pandas as pd\n",
    "import datetime\n",
    "import re\n",
    "import sys\n",
    "import copy\n",
    "import os\n",
    "import shutil\n",
    "import json\n",
    "import seaborn as sns\n",
    "import itertools\n",
    "from scipy import integrate, interpolate\n",
    "from scipy import stats\n",
    "import pickle\n",
    "\n",
    "#from seyfert.batch import submit_utils as su\n",
    "from seyfert import plotting\n",
    "from seyfert.utils import *\n",
    "from seyfert.config import *\n",
    "from seyfert.numeric import general as nug"
   ]
  },
  {
   "cell_type": "markdown",
   "id": "destroyed-mineral",
   "metadata": {},
   "source": [
    "## Logging configuration"
   ]
  },
  {
   "cell_type": "markdown",
   "id": "a648a7fc-f3ce-47b2-95bf-d6477a83d6b5",
   "metadata": {},
   "source": [
    "Put verbose to True to have all logging info"
   ]
  },
  {
   "cell_type": "code",
   "execution_count": null,
   "id": "a7e3ddd2-55ce-4b81-8973-d18225d3004b",
   "metadata": {},
   "outputs": [],
   "source": [
    "import logging\n",
    "\n",
    "verbose = False\n",
    "logfile = None\n",
    "\n",
    "logger = logging.getLogger()\n",
    "\n",
    "if verbose:\n",
    "    general_utils.configure_logger(logger, logfile=logfile)"
   ]
  },
  {
   "cell_type": "markdown",
   "id": "circular-first",
   "metadata": {},
   "source": [
    "## CMD Line arguments"
   ]
  },
  {
   "cell_type": "code",
   "execution_count": null,
   "id": "naval-pastor",
   "metadata": {},
   "outputs": [],
   "source": [
    "do_compute_derivatives = True\n",
    "\n",
    "arguments = {\n",
    "    \"forecast_config\": None,\n",
    "    \"run_id\": None,\n",
    "    \"input_data_dir\": Path.home() / \"spectrophoto/input_data\",\n",
    "    \"powerspectrum_dir\": None,\n",
    "    \"angular_dir\": None,\n",
    "    \"derivative_dir\": None,\n",
    "    \"fisher_dir\": None,\n",
    "    \"powerspectrum_config\": filesystem_utils.config_files_dir() / 'power_spectrum_config.json',\n",
    "    \"angular_config\":       filesystem_utils.config_files_dir() / 'angular_config.json',\n",
    "    \"derivative_config\":    filesystem_utils.config_files_dir() / 'derivative_config.json',\n",
    "    \"fisher_config\":        filesystem_utils.config_files_dir() / 'fisher_config.json',\n",
    "    \"results_config\":       filesystem_utils.config_files_dir() / 'results_config.json',\n",
    "    \"execution\": \"no\",\n",
    "    \"n_cores_per_job\": 1,\n",
    "    \"queue\": None,\n",
    "    \"memory\": None,\n",
    "    \"verbose\": False,\n",
    "    \"test\": True,\n",
    "    \"doctor\": False,\n",
    "    \"ignore_errfiles\": False,\n",
    "    \"powerspectrum\": False,\n",
    "    \"angular\": True,\n",
    "    \"derivative\": True,\n",
    "    \"fisher\": True,\n",
    "    \"ini_file\": None,\n",
    "}"
   ]
  },
  {
   "cell_type": "code",
   "execution_count": null,
   "id": "modular-computer",
   "metadata": {},
   "outputs": [],
   "source": [
    "arguments[\"forecast_config\"]   = \"/Users/lucapaganin/spectrophoto/config_files/1.3.5/optimistic/optm_ell_log_10_3000_4_sp_bins_1.3.5_2021-04-01T11-40-30.xml\"\n",
    "arguments[\"powerspectrum_dir\"] = \"/Users/lucapaganin/spectrophoto/powerspectra/ISTF_WL_Flat_powerspectra_1.2.1_2020-11-13T13-52-11/\"\n",
    "\n",
    "arguments[\"execution\"] = \"interactive\"\n",
    "arguments[\"test\"] = False"
   ]
  },
  {
   "cell_type": "markdown",
   "id": "welsh-savage",
   "metadata": {},
   "source": [
    "## Setup"
   ]
  },
  {
   "cell_type": "code",
   "execution_count": null,
   "id": "75953c07-beb7-4901-b1e0-94fc0446b5f8",
   "metadata": {},
   "outputs": [],
   "source": [
    "from seyfert.batch import submit_utils as su"
   ]
  },
  {
   "cell_type": "code",
   "execution_count": null,
   "id": "405dc99d-202f-40ae-9c56-45bb63f0e1ad",
   "metadata": {},
   "outputs": [],
   "source": [
    "runner = su.ForecastRunner(cmd_line_args=arguments)\n",
    "runner.buildTasks()\n",
    "runner.prepareWorkspace()\n",
    "runner.buildJobSubmitters()"
   ]
  },
  {
   "cell_type": "code",
   "execution_count": null,
   "id": "c8383211-f11d-41f4-b95e-3f31be5db3bb",
   "metadata": {},
   "outputs": [],
   "source": [
    "#runner.run()\n",
    "#rundir = runner.rundir"
   ]
  },
  {
   "cell_type": "code",
   "execution_count": null,
   "id": "e06741c2-d2f2-431f-9f8d-054bab90506a",
   "metadata": {},
   "outputs": [],
   "source": []
  },
  {
   "cell_type": "code",
   "execution_count": null,
   "id": "be518580-0f23-43e5-86a6-78aa881d91e4",
   "metadata": {},
   "outputs": [],
   "source": []
  },
  {
   "cell_type": "code",
   "execution_count": null,
   "id": "1a12e128-b65d-405a-898b-3e11c934da93",
   "metadata": {},
   "outputs": [],
   "source": []
  },
  {
   "cell_type": "code",
   "execution_count": null,
   "id": "c908bdc6-3126-4a2a-89a7-6d55094b5442",
   "metadata": {},
   "outputs": [],
   "source": []
  },
  {
   "cell_type": "markdown",
   "id": "statistical-lindsay",
   "metadata": {},
   "source": [
    "## Delta Cls"
   ]
  },
  {
   "cell_type": "code",
   "execution_count": null,
   "id": "silent-horse",
   "metadata": {},
   "outputs": [],
   "source": [
    "from seyfert.fisher.delta_cl import DeltaClCollection\n",
    "\n",
    "delta_cls = DeltaClCollection(fcfg=fcfg, fisher_cfg=fisher_config)\n",
    "delta_cls.loadFiducialCls(fid_cls)\n",
    "delta_cls.evaluateSingleBlocks()\n",
    "delta_cls.buildXCBlocks()\n",
    "\n",
    "if not (workdir / \"delta_cls.h5\").exists():\n",
    "    delta_cls.saveToHDF5(workdir / \"delta_cls.h5\")"
   ]
  },
  {
   "cell_type": "code",
   "execution_count": null,
   "id": "shaped-soundtrack",
   "metadata": {},
   "outputs": [],
   "source": []
  },
  {
   "cell_type": "code",
   "execution_count": null,
   "id": "liquid-thailand",
   "metadata": {},
   "outputs": [],
   "source": []
  },
  {
   "cell_type": "markdown",
   "id": "historical-montreal",
   "metadata": {},
   "source": [
    "## Fisher"
   ]
  },
  {
   "cell_type": "code",
   "execution_count": null,
   "id": "biblical-maldives",
   "metadata": {},
   "outputs": [],
   "source": [
    "from seyfert.fisher import fisher_computation as fcomp\n",
    "from seyfert.fisher.fisher_matrix import FisherMatrix\n",
    "from seyfert.base_structs.cl_dict import ClDict"
   ]
  },
  {
   "cell_type": "code",
   "execution_count": null,
   "id": "latest-thread",
   "metadata": {},
   "outputs": [],
   "source": [
    "logfile = None\n",
    "\n",
    "logger = logging.getLogger()\n",
    "general_utils.configure_logger(logger, logfile=logfile)"
   ]
  },
  {
   "cell_type": "code",
   "execution_count": null,
   "id": "opposite-spring",
   "metadata": {},
   "outputs": [],
   "source": [
    "flex_ders_dict = {\n",
    "    dvar: ClDict({key: dcl.dc_lij for key, dcl in dcoll.dcl_dict.items()})\n",
    "    for dvar, dcoll in ders_dict.items()\n",
    "}"
   ]
  },
  {
   "cell_type": "code",
   "execution_count": null,
   "id": "broad-developer",
   "metadata": {},
   "outputs": [],
   "source": [
    "ti = time.time()\n",
    "print(\"computing fisher matrices\")\n",
    "\n",
    "probes = [\"WL\", \"GCph\", \"GCsp\"]\n",
    "\n",
    "fish_outdir = workdir / \"fishers\"\n",
    "fish_outdir.mkdir(exist_ok=True)\n",
    "\n",
    "fmats = fcomp.compute_all_fishers(probes, params, flex_ders_dict, delta_cls, fish_outdir, silent=True, save_f_ell_auto=False)\n",
    "\n",
    "fmats[\"GCsp(Pk)\"] = FisherMatrix.fromHDF5(\"../fisher_compute/data/ist_fishers/EuclidISTF_GCsp_w0wa_flat_optimistic.hdf5\")\n",
    "\n",
    "if \"GCsp\" in fmats:\n",
    "    fmats['GCsp(Cl)'] = fmats['GCsp']\n",
    "    fmats['GCsp(Cl)'].name = 'GCsp(Cl)'\n",
    "    del fmats['GCsp']\n",
    "\n",
    "tf = time.time()\n",
    "print(f\"Elapsed time {formatters.string_time_format(tf-ti)}\")"
   ]
  },
  {
   "cell_type": "code",
   "execution_count": null,
   "id": "generous-causing",
   "metadata": {},
   "outputs": [],
   "source": []
  },
  {
   "cell_type": "code",
   "execution_count": null,
   "id": "bridal-despite",
   "metadata": {},
   "outputs": [],
   "source": []
  },
  {
   "cell_type": "code",
   "execution_count": null,
   "id": "middle-sentence",
   "metadata": {},
   "outputs": [],
   "source": []
  },
  {
   "cell_type": "code",
   "execution_count": null,
   "id": "palestinian-rebate",
   "metadata": {},
   "outputs": [],
   "source": []
  },
  {
   "cell_type": "markdown",
   "id": "foreign-neutral",
   "metadata": {},
   "source": [
    "### Fishers of autocorrelations to be added"
   ]
  },
  {
   "cell_type": "code",
   "execution_count": null,
   "id": "focal-tobago",
   "metadata": {},
   "outputs": [],
   "source": [
    "add_autos_contribs = True"
   ]
  },
  {
   "cell_type": "markdown",
   "id": "fatal-column",
   "metadata": {},
   "source": [
    "#### WL"
   ]
  },
  {
   "cell_type": "code",
   "execution_count": null,
   "id": "third-elephant",
   "metadata": {},
   "outputs": [],
   "source": [
    "if add_autos_contribs:\n",
    "    fisher_WL_3000_5000 = FisherMatrix.fromHDF5(\"autocorr_fishers/optimistic/fisher_WL_ell_3000_5000.hdf5\")\n",
    "\n",
    "    for key in fmats:\n",
    "        if \"WL\" in key:\n",
    "            fmats[key].matrix = fmats[key].matrix.add(fisher_WL_3000_5000.matrix, fill_value=0)\n",
    "        fmats[key].evaluateInverse()"
   ]
  },
  {
   "cell_type": "code",
   "execution_count": null,
   "id": "younger-amount",
   "metadata": {},
   "outputs": [],
   "source": []
  },
  {
   "cell_type": "markdown",
   "id": "occasional-bangkok",
   "metadata": {},
   "source": [
    "Writing fisher matrices to file"
   ]
  },
  {
   "cell_type": "code",
   "execution_count": null,
   "id": "sonic-legislation",
   "metadata": {},
   "outputs": [],
   "source": []
  },
  {
   "cell_type": "code",
   "execution_count": null,
   "id": "b39241f0-9ed0-4143-bfee-716d412f879b",
   "metadata": {},
   "outputs": [],
   "source": []
  }
 ],
 "metadata": {
  "kernelspec": {
   "display_name": "Python 3",
   "language": "python",
   "name": "python3"
  },
  "language_info": {
   "codemirror_mode": {
    "name": "ipython",
    "version": 3
   },
   "file_extension": ".py",
   "mimetype": "text/x-python",
   "name": "python",
   "nbconvert_exporter": "python",
   "pygments_lexer": "ipython3",
   "version": "3.8.8"
  },
  "toc-autonumbering": true
 },
 "nbformat": 4,
 "nbformat_minor": 5
}
